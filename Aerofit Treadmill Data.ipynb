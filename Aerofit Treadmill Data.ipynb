{
 "cells": [
  {
   "cell_type": "code",
   "execution_count": 108,
   "id": "bc507168-3df1-44c4-bf1d-7d5d616c0d2e",
   "metadata": {},
   "outputs": [],
   "source": [
    "import pandas as pd\n",
    "import seaborn as sns\n",
    "import matplotlib.pyplot as plt\n",
    "import numpy as np"
   ]
  },
  {
   "cell_type": "markdown",
   "id": "7744be94-4941-4783-8a01-6dfd70cf50b7",
   "metadata": {},
   "source": [
    "# Data Exploration and Processing"
   ]
  },
  {
   "cell_type": "code",
   "execution_count": 3,
   "id": "d69c1b44-92cb-4cc4-8d2e-6d7aa50298c4",
   "metadata": {},
   "outputs": [],
   "source": [
    "df = pd.read_csv('aerofit_treadmill_data.csv')"
   ]
  },
  {
   "cell_type": "code",
   "execution_count": 4,
   "id": "94051b3b-1425-4bc0-b59d-9916a99c67c4",
   "metadata": {},
   "outputs": [
    {
     "data": {
      "text/html": [
       "<div>\n",
       "<style scoped>\n",
       "    .dataframe tbody tr th:only-of-type {\n",
       "        vertical-align: middle;\n",
       "    }\n",
       "\n",
       "    .dataframe tbody tr th {\n",
       "        vertical-align: top;\n",
       "    }\n",
       "\n",
       "    .dataframe thead th {\n",
       "        text-align: right;\n",
       "    }\n",
       "</style>\n",
       "<table border=\"1\" class=\"dataframe\">\n",
       "  <thead>\n",
       "    <tr style=\"text-align: right;\">\n",
       "      <th></th>\n",
       "      <th>Product</th>\n",
       "      <th>Age</th>\n",
       "      <th>Gender</th>\n",
       "      <th>Education</th>\n",
       "      <th>MaritalStatus</th>\n",
       "      <th>Usage</th>\n",
       "      <th>Fitness</th>\n",
       "      <th>Income</th>\n",
       "      <th>Miles</th>\n",
       "    </tr>\n",
       "  </thead>\n",
       "  <tbody>\n",
       "    <tr>\n",
       "      <th>0</th>\n",
       "      <td>KP281</td>\n",
       "      <td>18</td>\n",
       "      <td>Male</td>\n",
       "      <td>14</td>\n",
       "      <td>Single</td>\n",
       "      <td>3</td>\n",
       "      <td>4</td>\n",
       "      <td>29562</td>\n",
       "      <td>112</td>\n",
       "    </tr>\n",
       "    <tr>\n",
       "      <th>1</th>\n",
       "      <td>KP281</td>\n",
       "      <td>19</td>\n",
       "      <td>Male</td>\n",
       "      <td>15</td>\n",
       "      <td>Single</td>\n",
       "      <td>2</td>\n",
       "      <td>3</td>\n",
       "      <td>31836</td>\n",
       "      <td>75</td>\n",
       "    </tr>\n",
       "    <tr>\n",
       "      <th>2</th>\n",
       "      <td>KP281</td>\n",
       "      <td>19</td>\n",
       "      <td>Female</td>\n",
       "      <td>14</td>\n",
       "      <td>Partnered</td>\n",
       "      <td>4</td>\n",
       "      <td>3</td>\n",
       "      <td>30699</td>\n",
       "      <td>66</td>\n",
       "    </tr>\n",
       "    <tr>\n",
       "      <th>3</th>\n",
       "      <td>KP281</td>\n",
       "      <td>19</td>\n",
       "      <td>Male</td>\n",
       "      <td>12</td>\n",
       "      <td>Single</td>\n",
       "      <td>3</td>\n",
       "      <td>3</td>\n",
       "      <td>32973</td>\n",
       "      <td>85</td>\n",
       "    </tr>\n",
       "    <tr>\n",
       "      <th>4</th>\n",
       "      <td>KP281</td>\n",
       "      <td>20</td>\n",
       "      <td>Male</td>\n",
       "      <td>13</td>\n",
       "      <td>Partnered</td>\n",
       "      <td>4</td>\n",
       "      <td>2</td>\n",
       "      <td>35247</td>\n",
       "      <td>47</td>\n",
       "    </tr>\n",
       "    <tr>\n",
       "      <th>...</th>\n",
       "      <td>...</td>\n",
       "      <td>...</td>\n",
       "      <td>...</td>\n",
       "      <td>...</td>\n",
       "      <td>...</td>\n",
       "      <td>...</td>\n",
       "      <td>...</td>\n",
       "      <td>...</td>\n",
       "      <td>...</td>\n",
       "    </tr>\n",
       "    <tr>\n",
       "      <th>175</th>\n",
       "      <td>KP781</td>\n",
       "      <td>40</td>\n",
       "      <td>Male</td>\n",
       "      <td>21</td>\n",
       "      <td>Single</td>\n",
       "      <td>6</td>\n",
       "      <td>5</td>\n",
       "      <td>83416</td>\n",
       "      <td>200</td>\n",
       "    </tr>\n",
       "    <tr>\n",
       "      <th>176</th>\n",
       "      <td>KP781</td>\n",
       "      <td>42</td>\n",
       "      <td>Male</td>\n",
       "      <td>18</td>\n",
       "      <td>Single</td>\n",
       "      <td>5</td>\n",
       "      <td>4</td>\n",
       "      <td>89641</td>\n",
       "      <td>200</td>\n",
       "    </tr>\n",
       "    <tr>\n",
       "      <th>177</th>\n",
       "      <td>KP781</td>\n",
       "      <td>45</td>\n",
       "      <td>Male</td>\n",
       "      <td>16</td>\n",
       "      <td>Single</td>\n",
       "      <td>5</td>\n",
       "      <td>5</td>\n",
       "      <td>90886</td>\n",
       "      <td>160</td>\n",
       "    </tr>\n",
       "    <tr>\n",
       "      <th>178</th>\n",
       "      <td>KP781</td>\n",
       "      <td>47</td>\n",
       "      <td>Male</td>\n",
       "      <td>18</td>\n",
       "      <td>Partnered</td>\n",
       "      <td>4</td>\n",
       "      <td>5</td>\n",
       "      <td>104581</td>\n",
       "      <td>120</td>\n",
       "    </tr>\n",
       "    <tr>\n",
       "      <th>179</th>\n",
       "      <td>KP781</td>\n",
       "      <td>48</td>\n",
       "      <td>Male</td>\n",
       "      <td>18</td>\n",
       "      <td>Partnered</td>\n",
       "      <td>4</td>\n",
       "      <td>5</td>\n",
       "      <td>95508</td>\n",
       "      <td>180</td>\n",
       "    </tr>\n",
       "  </tbody>\n",
       "</table>\n",
       "<p>180 rows × 9 columns</p>\n",
       "</div>"
      ],
      "text/plain": [
       "    Product  Age  Gender  Education MaritalStatus  Usage  Fitness  Income  \\\n",
       "0     KP281   18    Male         14        Single      3        4   29562   \n",
       "1     KP281   19    Male         15        Single      2        3   31836   \n",
       "2     KP281   19  Female         14     Partnered      4        3   30699   \n",
       "3     KP281   19    Male         12        Single      3        3   32973   \n",
       "4     KP281   20    Male         13     Partnered      4        2   35247   \n",
       "..      ...  ...     ...        ...           ...    ...      ...     ...   \n",
       "175   KP781   40    Male         21        Single      6        5   83416   \n",
       "176   KP781   42    Male         18        Single      5        4   89641   \n",
       "177   KP781   45    Male         16        Single      5        5   90886   \n",
       "178   KP781   47    Male         18     Partnered      4        5  104581   \n",
       "179   KP781   48    Male         18     Partnered      4        5   95508   \n",
       "\n",
       "     Miles  \n",
       "0      112  \n",
       "1       75  \n",
       "2       66  \n",
       "3       85  \n",
       "4       47  \n",
       "..     ...  \n",
       "175    200  \n",
       "176    200  \n",
       "177    160  \n",
       "178    120  \n",
       "179    180  \n",
       "\n",
       "[180 rows x 9 columns]"
      ]
     },
     "execution_count": 4,
     "metadata": {},
     "output_type": "execute_result"
    }
   ],
   "source": [
    "df"
   ]
  },
  {
   "cell_type": "code",
   "execution_count": 153,
   "id": "3bd230eb-e9ca-4f81-bc8c-16b5f15c15c7",
   "metadata": {},
   "outputs": [
    {
     "data": {
      "text/html": [
       "<div>\n",
       "<style scoped>\n",
       "    .dataframe tbody tr th:only-of-type {\n",
       "        vertical-align: middle;\n",
       "    }\n",
       "\n",
       "    .dataframe tbody tr th {\n",
       "        vertical-align: top;\n",
       "    }\n",
       "\n",
       "    .dataframe thead th {\n",
       "        text-align: right;\n",
       "    }\n",
       "</style>\n",
       "<table border=\"1\" class=\"dataframe\">\n",
       "  <thead>\n",
       "    <tr style=\"text-align: right;\">\n",
       "      <th></th>\n",
       "      <th>Product</th>\n",
       "      <th>Age</th>\n",
       "      <th>Gender</th>\n",
       "      <th>Education</th>\n",
       "      <th>MaritalStatus</th>\n",
       "      <th>Usage</th>\n",
       "      <th>Fitness</th>\n",
       "      <th>Income</th>\n",
       "      <th>Miles</th>\n",
       "    </tr>\n",
       "  </thead>\n",
       "  <tbody>\n",
       "    <tr>\n",
       "      <th>count</th>\n",
       "      <td>180</td>\n",
       "      <td>180.000000</td>\n",
       "      <td>180</td>\n",
       "      <td>180.000000</td>\n",
       "      <td>180</td>\n",
       "      <td>180.000000</td>\n",
       "      <td>180.000000</td>\n",
       "      <td>180.000000</td>\n",
       "      <td>180.000000</td>\n",
       "    </tr>\n",
       "    <tr>\n",
       "      <th>unique</th>\n",
       "      <td>3</td>\n",
       "      <td>NaN</td>\n",
       "      <td>2</td>\n",
       "      <td>NaN</td>\n",
       "      <td>2</td>\n",
       "      <td>NaN</td>\n",
       "      <td>NaN</td>\n",
       "      <td>NaN</td>\n",
       "      <td>NaN</td>\n",
       "    </tr>\n",
       "    <tr>\n",
       "      <th>top</th>\n",
       "      <td>KP281</td>\n",
       "      <td>NaN</td>\n",
       "      <td>Male</td>\n",
       "      <td>NaN</td>\n",
       "      <td>Partnered</td>\n",
       "      <td>NaN</td>\n",
       "      <td>NaN</td>\n",
       "      <td>NaN</td>\n",
       "      <td>NaN</td>\n",
       "    </tr>\n",
       "    <tr>\n",
       "      <th>freq</th>\n",
       "      <td>80</td>\n",
       "      <td>NaN</td>\n",
       "      <td>104</td>\n",
       "      <td>NaN</td>\n",
       "      <td>107</td>\n",
       "      <td>NaN</td>\n",
       "      <td>NaN</td>\n",
       "      <td>NaN</td>\n",
       "      <td>NaN</td>\n",
       "    </tr>\n",
       "    <tr>\n",
       "      <th>mean</th>\n",
       "      <td>NaN</td>\n",
       "      <td>28.788889</td>\n",
       "      <td>NaN</td>\n",
       "      <td>15.572222</td>\n",
       "      <td>NaN</td>\n",
       "      <td>3.455556</td>\n",
       "      <td>3.311111</td>\n",
       "      <td>53719.577778</td>\n",
       "      <td>103.194444</td>\n",
       "    </tr>\n",
       "    <tr>\n",
       "      <th>std</th>\n",
       "      <td>NaN</td>\n",
       "      <td>6.943498</td>\n",
       "      <td>NaN</td>\n",
       "      <td>1.617055</td>\n",
       "      <td>NaN</td>\n",
       "      <td>1.084797</td>\n",
       "      <td>0.958869</td>\n",
       "      <td>16506.684226</td>\n",
       "      <td>51.863605</td>\n",
       "    </tr>\n",
       "    <tr>\n",
       "      <th>min</th>\n",
       "      <td>NaN</td>\n",
       "      <td>18.000000</td>\n",
       "      <td>NaN</td>\n",
       "      <td>12.000000</td>\n",
       "      <td>NaN</td>\n",
       "      <td>2.000000</td>\n",
       "      <td>1.000000</td>\n",
       "      <td>29562.000000</td>\n",
       "      <td>21.000000</td>\n",
       "    </tr>\n",
       "    <tr>\n",
       "      <th>25%</th>\n",
       "      <td>NaN</td>\n",
       "      <td>24.000000</td>\n",
       "      <td>NaN</td>\n",
       "      <td>14.000000</td>\n",
       "      <td>NaN</td>\n",
       "      <td>3.000000</td>\n",
       "      <td>3.000000</td>\n",
       "      <td>44058.750000</td>\n",
       "      <td>66.000000</td>\n",
       "    </tr>\n",
       "    <tr>\n",
       "      <th>50%</th>\n",
       "      <td>NaN</td>\n",
       "      <td>26.000000</td>\n",
       "      <td>NaN</td>\n",
       "      <td>16.000000</td>\n",
       "      <td>NaN</td>\n",
       "      <td>3.000000</td>\n",
       "      <td>3.000000</td>\n",
       "      <td>50596.500000</td>\n",
       "      <td>94.000000</td>\n",
       "    </tr>\n",
       "    <tr>\n",
       "      <th>75%</th>\n",
       "      <td>NaN</td>\n",
       "      <td>33.000000</td>\n",
       "      <td>NaN</td>\n",
       "      <td>16.000000</td>\n",
       "      <td>NaN</td>\n",
       "      <td>4.000000</td>\n",
       "      <td>4.000000</td>\n",
       "      <td>58668.000000</td>\n",
       "      <td>114.750000</td>\n",
       "    </tr>\n",
       "    <tr>\n",
       "      <th>max</th>\n",
       "      <td>NaN</td>\n",
       "      <td>50.000000</td>\n",
       "      <td>NaN</td>\n",
       "      <td>21.000000</td>\n",
       "      <td>NaN</td>\n",
       "      <td>7.000000</td>\n",
       "      <td>5.000000</td>\n",
       "      <td>104581.000000</td>\n",
       "      <td>360.000000</td>\n",
       "    </tr>\n",
       "  </tbody>\n",
       "</table>\n",
       "</div>"
      ],
      "text/plain": [
       "       Product         Age Gender   Education MaritalStatus       Usage  \\\n",
       "count      180  180.000000    180  180.000000           180  180.000000   \n",
       "unique       3         NaN      2         NaN             2         NaN   \n",
       "top      KP281         NaN   Male         NaN     Partnered         NaN   \n",
       "freq        80         NaN    104         NaN           107         NaN   \n",
       "mean       NaN   28.788889    NaN   15.572222           NaN    3.455556   \n",
       "std        NaN    6.943498    NaN    1.617055           NaN    1.084797   \n",
       "min        NaN   18.000000    NaN   12.000000           NaN    2.000000   \n",
       "25%        NaN   24.000000    NaN   14.000000           NaN    3.000000   \n",
       "50%        NaN   26.000000    NaN   16.000000           NaN    3.000000   \n",
       "75%        NaN   33.000000    NaN   16.000000           NaN    4.000000   \n",
       "max        NaN   50.000000    NaN   21.000000           NaN    7.000000   \n",
       "\n",
       "           Fitness         Income       Miles  \n",
       "count   180.000000     180.000000  180.000000  \n",
       "unique         NaN            NaN         NaN  \n",
       "top            NaN            NaN         NaN  \n",
       "freq           NaN            NaN         NaN  \n",
       "mean      3.311111   53719.577778  103.194444  \n",
       "std       0.958869   16506.684226   51.863605  \n",
       "min       1.000000   29562.000000   21.000000  \n",
       "25%       3.000000   44058.750000   66.000000  \n",
       "50%       3.000000   50596.500000   94.000000  \n",
       "75%       4.000000   58668.000000  114.750000  \n",
       "max       5.000000  104581.000000  360.000000  "
      ]
     },
     "execution_count": 153,
     "metadata": {},
     "output_type": "execute_result"
    }
   ],
   "source": [
    "df.describe(include='all')"
   ]
  },
  {
   "cell_type": "code",
   "execution_count": 155,
   "id": "27dd02f4-0509-4da8-b8b2-1f146e928344",
   "metadata": {},
   "outputs": [
    {
     "data": {
      "text/plain": [
       "Product          0\n",
       "Age              0\n",
       "Gender           0\n",
       "Education        0\n",
       "MaritalStatus    0\n",
       "Usage            0\n",
       "Fitness          0\n",
       "Income           0\n",
       "Miles            0\n",
       "dtype: int64"
      ]
     },
     "execution_count": 155,
     "metadata": {},
     "output_type": "execute_result"
    }
   ],
   "source": [
    "#Missing value detection\n",
    "df.isna().sum() # no missing values detected"
   ]
  },
  {
   "cell_type": "code",
   "execution_count": 159,
   "id": "124425b8-1b20-48a6-9db4-487150f52d26",
   "metadata": {},
   "outputs": [
    {
     "data": {
      "text/plain": [
       "180"
      ]
     },
     "execution_count": 159,
     "metadata": {},
     "output_type": "execute_result"
    }
   ],
   "source": [
    "# Check for duplicate values\n",
    "df.duplicated(keep='first').count() # no duplicate values found"
   ]
  },
  {
   "cell_type": "markdown",
   "id": "669d549b-9b30-4596-9626-cec19aed836f",
   "metadata": {},
   "source": [
    "# Bivariate Analysis"
   ]
  },
  {
   "cell_type": "markdown",
   "id": "33e9c345-d6e5-4016-bb18-33ac32ce02b4",
   "metadata": {},
   "source": [
    "### Product and Gender"
   ]
  },
  {
   "cell_type": "code",
   "execution_count": 95,
   "id": "d5786cab-a3e4-47a5-8d02-1cd54eb3cc20",
   "metadata": {},
   "outputs": [
    {
     "data": {
      "text/html": [
       "<div>\n",
       "<style scoped>\n",
       "    .dataframe tbody tr th:only-of-type {\n",
       "        vertical-align: middle;\n",
       "    }\n",
       "\n",
       "    .dataframe tbody tr th {\n",
       "        vertical-align: top;\n",
       "    }\n",
       "\n",
       "    .dataframe thead th {\n",
       "        text-align: right;\n",
       "    }\n",
       "</style>\n",
       "<table border=\"1\" class=\"dataframe\">\n",
       "  <thead>\n",
       "    <tr style=\"text-align: right;\">\n",
       "      <th>Gender</th>\n",
       "      <th>Female</th>\n",
       "      <th>Male</th>\n",
       "    </tr>\n",
       "    <tr>\n",
       "      <th>Product</th>\n",
       "      <th></th>\n",
       "      <th></th>\n",
       "    </tr>\n",
       "  </thead>\n",
       "  <tbody>\n",
       "    <tr>\n",
       "      <th>KP281</th>\n",
       "      <td>0.500000</td>\n",
       "      <td>0.500000</td>\n",
       "    </tr>\n",
       "    <tr>\n",
       "      <th>KP481</th>\n",
       "      <td>0.483333</td>\n",
       "      <td>0.516667</td>\n",
       "    </tr>\n",
       "    <tr>\n",
       "      <th>KP781</th>\n",
       "      <td>0.175000</td>\n",
       "      <td>0.825000</td>\n",
       "    </tr>\n",
       "  </tbody>\n",
       "</table>\n",
       "</div>"
      ],
      "text/plain": [
       "Gender     Female      Male\n",
       "Product                    \n",
       "KP281    0.500000  0.500000\n",
       "KP481    0.483333  0.516667\n",
       "KP781    0.175000  0.825000"
      ]
     },
     "execution_count": 95,
     "metadata": {},
     "output_type": "execute_result"
    }
   ],
   "source": [
    "crosstab_gender = pd.crosstab(index=df['Product'], columns = df['Gender'], normalize = \"index\")\n",
    "crosstab_gender\n"
   ]
  },
  {
   "cell_type": "code",
   "execution_count": 123,
   "id": "5ceefd0f-5514-46a7-8279-95ebe36e2943",
   "metadata": {},
   "outputs": [
    {
     "data": {
      "image/png": "[encoded data removed]",
      "text/plain": [
       "<Figure size 720x360 with 1 Axes>"
      ]
     },
     "metadata": {
      "needs_background": "light"
     },
     "output_type": "display_data"
    }
   ],
   "source": [
    "crosstab_gender.plot(kind='bar', stacked= 'True', colormap = 'Paired', figsize = (10,5))\n",
    "plt.legend(bbox_to_anchor=(1.01,1.0), loc=\"upper left\")\n",
    "plt.xlabel('Product')\n",
    "plt.ylabel('Proportion')\n",
    "plt.title('Distribution of gender for each product')\n",
    "\n",
    "for n, x in enumerate([*crosstab_gender.index.values]):\n",
    "    for proportion, y_loc in zip(crosstab_gender.loc[x],crosstab_gender.loc[x].cumsum()) :\n",
    "        plt.text(x=n, y = y_loc, s = f'{np.round(proportion*100,1)}%', size = 12, fontweight = 'bold')\n"
   ]
  },
  {
   "cell_type": "code",
   "execution_count": 146,
   "id": "6e54d40c-e7ed-4dd9-a127-8ad21c341e6b",
   "metadata": {},
   "outputs": [
    {
     "data": {
      "text/plain": [
       "Product  Gender\n",
       "KP281    Female    40\n",
       "         Male      40\n",
       "KP481    Female    29\n",
       "         Male      31\n",
       "KP781    Female     7\n",
       "         Male      33\n",
       "Name: Product, dtype: int64"
      ]
     },
     "execution_count": 146,
     "metadata": {},
     "output_type": "execute_result"
    }
   ],
   "source": [
    "sale_per_product_per_gender = df.groupby(['Product','Gender'])['Product'].count()\n",
    "sale_per_product_per_gender"
   ]
  },
  {
   "cell_type": "code",
   "execution_count": 147,
   "id": "f339b71d-4f69-46b6-8177-1d0280eb7365",
   "metadata": {},
   "outputs": [
    {
     "data": {
      "text/plain": [
       "Product  Gender\n",
       "KP281    Female    0.500000\n",
       "         Male      0.500000\n",
       "KP481    Female    0.483333\n",
       "         Male      0.516667\n",
       "KP781    Female    0.175000\n",
       "         Male      0.825000\n",
       "Name: Product, dtype: float64"
      ]
     },
     "execution_count": 147,
     "metadata": {},
     "output_type": "execute_result"
    }
   ],
   "source": [
    "sale_per_product_per_gender / sale_per_product_per_gender.groupby('Product').transform('sum')"
   ]
  },
  {
   "cell_type": "markdown",
   "id": "48d8ece7-7925-4963-9dda-755a30d34f04",
   "metadata": {},
   "source": [
    "### Product and Marital Status"
   ]
  },
  {
   "cell_type": "code",
   "execution_count": 126,
   "id": "687ddf7a-197f-4d93-9c60-32919d828377",
   "metadata": {},
   "outputs": [
    {
     "data": {
      "text/html": [
       "<div>\n",
       "<style scoped>\n",
       "    .dataframe tbody tr th:only-of-type {\n",
       "        vertical-align: middle;\n",
       "    }\n",
       "\n",
       "    .dataframe tbody tr th {\n",
       "        vertical-align: top;\n",
       "    }\n",
       "\n",
       "    .dataframe thead th {\n",
       "        text-align: right;\n",
       "    }\n",
       "</style>\n",
       "<table border=\"1\" class=\"dataframe\">\n",
       "  <thead>\n",
       "    <tr style=\"text-align: right;\">\n",
       "      <th>MaritalStatus</th>\n",
       "      <th>Partnered</th>\n",
       "      <th>Single</th>\n",
       "    </tr>\n",
       "    <tr>\n",
       "      <th>Product</th>\n",
       "      <th></th>\n",
       "      <th></th>\n",
       "    </tr>\n",
       "  </thead>\n",
       "  <tbody>\n",
       "    <tr>\n",
       "      <th>KP281</th>\n",
       "      <td>0.600</td>\n",
       "      <td>0.400</td>\n",
       "    </tr>\n",
       "    <tr>\n",
       "      <th>KP481</th>\n",
       "      <td>0.600</td>\n",
       "      <td>0.400</td>\n",
       "    </tr>\n",
       "    <tr>\n",
       "      <th>KP781</th>\n",
       "      <td>0.575</td>\n",
       "      <td>0.425</td>\n",
       "    </tr>\n",
       "  </tbody>\n",
       "</table>\n",
       "</div>"
      ],
      "text/plain": [
       "MaritalStatus  Partnered  Single\n",
       "Product                         \n",
       "KP281              0.600   0.400\n",
       "KP481              0.600   0.400\n",
       "KP781              0.575   0.425"
      ]
     },
     "execution_count": 126,
     "metadata": {},
     "output_type": "execute_result"
    }
   ],
   "source": [
    "crosstab_maritalstatus = pd.crosstab(index=df['Product'], columns=df['MaritalStatus'], normalize=\"index\")\n",
    "crosstab_maritalstatus"
   ]
  },
  {
   "cell_type": "code",
   "execution_count": 37,
   "id": "dfd49b54-361c-428f-9027-214b5e85b8b9",
   "metadata": {},
   "outputs": [
    {
     "data": {
      "text/plain": [
       "Product  MaritalStatus\n",
       "KP281    Partnered        48\n",
       "         Single           32\n",
       "KP481    Partnered        36\n",
       "         Single           24\n",
       "KP781    Partnered        23\n",
       "         Single           17\n",
       "Name: Product, dtype: int64"
      ]
     },
     "execution_count": 37,
     "metadata": {},
     "output_type": "execute_result"
    }
   ],
   "source": [
    "sale_per_product_per_maritalstatus = df.groupby(['Product','MaritalStatus'])['Product'].count()\n",
    "sale_per_product_per_maritalstatus"
   ]
  },
  {
   "cell_type": "code",
   "execution_count": 48,
   "id": "e183afaa-3dab-4ca5-bc3f-752fb9599079",
   "metadata": {},
   "outputs": [
    {
     "data": {
      "text/plain": [
       "Product  MaritalStatus\n",
       "KP281    Partnered        0.600\n",
       "         Single           0.400\n",
       "KP481    Partnered        0.600\n",
       "         Single           0.400\n",
       "KP781    Partnered        0.575\n",
       "         Single           0.425\n",
       "Name: Product, dtype: float64"
      ]
     },
     "execution_count": 48,
     "metadata": {},
     "output_type": "execute_result"
    }
   ],
   "source": [
    "sale_per_product_per_maritalstatus / sale_per_product_per_maritalstatus.groupby(['Product']).transform('sum')"
   ]
  },
  {
   "cell_type": "code",
   "execution_count": 145,
   "id": "13f2162d-c55c-48ba-9e7d-98c0c8978b9a",
   "metadata": {},
   "outputs": [
    {
     "data": {
      "image/png": "[encoded data removed]",
      "text/plain": [
       "<Figure size 720x360 with 1 Axes>"
      ]
     },
     "metadata": {
      "needs_background": "light"
     },
     "output_type": "display_data"
    }
   ],
   "source": [
    "crosstab_maritalstatus.plot(kind='bar', stacked=True, figsize = (10,5), colormap = 'Paired')\n",
    "plt.ylabel('Proportion')\n",
    "plt.legend(bbox_to_anchor = (1.2,1), loc='upper right')\n",
    "plt.title('distribution of marital status by product')\n",
    "\n",
    "for n, x in enumerate([*crosstab_maritalstatus.index.values]):\n",
    "    for proportion, y_loc in zip(crosstab_maritalstatus.loc[x], crosstab_maritalstatus.loc[x].cumsum()):\n",
    "        plt.text(x=n, y=y_loc, s=f'{round(proportion*100,1)}%', fontweight='bold')"
   ]
  },
  {
   "cell_type": "markdown",
   "id": "0d64e37f-292f-4424-8594-2be7c68e8eb2",
   "metadata": {},
   "source": [
    "### Product vs Age, Education,, Usage, Fitness, Income, Miles"
   ]
  },
  {
   "cell_type": "code",
   "execution_count": 27,
   "id": "bc62b5b0-14b4-4aa4-80f9-1d455534319c",
   "metadata": {},
   "outputs": [
    {
     "data": {
      "text/html": [
       "<div>\n",
       "<style scoped>\n",
       "    .dataframe tbody tr th:only-of-type {\n",
       "        vertical-align: middle;\n",
       "    }\n",
       "\n",
       "    .dataframe tbody tr th {\n",
       "        vertical-align: top;\n",
       "    }\n",
       "\n",
       "    .dataframe thead th {\n",
       "        text-align: right;\n",
       "    }\n",
       "</style>\n",
       "<table border=\"1\" class=\"dataframe\">\n",
       "  <thead>\n",
       "    <tr style=\"text-align: right;\">\n",
       "      <th></th>\n",
       "      <th>Age</th>\n",
       "      <th>Education</th>\n",
       "      <th>Usage</th>\n",
       "      <th>Fitness</th>\n",
       "      <th>Income</th>\n",
       "      <th>Miles</th>\n",
       "    </tr>\n",
       "    <tr>\n",
       "      <th>Product</th>\n",
       "      <th></th>\n",
       "      <th></th>\n",
       "      <th></th>\n",
       "      <th></th>\n",
       "      <th></th>\n",
       "      <th></th>\n",
       "    </tr>\n",
       "  </thead>\n",
       "  <tbody>\n",
       "    <tr>\n",
       "      <th>KP281</th>\n",
       "      <td>28.55</td>\n",
       "      <td>15.037500</td>\n",
       "      <td>3.087500</td>\n",
       "      <td>2.9625</td>\n",
       "      <td>46418.025</td>\n",
       "      <td>82.787500</td>\n",
       "    </tr>\n",
       "    <tr>\n",
       "      <th>KP481</th>\n",
       "      <td>28.90</td>\n",
       "      <td>15.116667</td>\n",
       "      <td>3.066667</td>\n",
       "      <td>2.9000</td>\n",
       "      <td>48973.650</td>\n",
       "      <td>87.933333</td>\n",
       "    </tr>\n",
       "    <tr>\n",
       "      <th>KP781</th>\n",
       "      <td>29.10</td>\n",
       "      <td>17.325000</td>\n",
       "      <td>4.775000</td>\n",
       "      <td>4.6250</td>\n",
       "      <td>75441.575</td>\n",
       "      <td>166.900000</td>\n",
       "    </tr>\n",
       "  </tbody>\n",
       "</table>\n",
       "</div>"
      ],
      "text/plain": [
       "           Age  Education     Usage  Fitness     Income       Miles\n",
       "Product                                                            \n",
       "KP281    28.55  15.037500  3.087500   2.9625  46418.025   82.787500\n",
       "KP481    28.90  15.116667  3.066667   2.9000  48973.650   87.933333\n",
       "KP781    29.10  17.325000  4.775000   4.6250  75441.575  166.900000"
      ]
     },
     "execution_count": 27,
     "metadata": {},
     "output_type": "execute_result"
    }
   ],
   "source": [
    "df.groupby(['Product'])[['Age','Education','Usage','Fitness','Income','Miles']].mean()"
   ]
  },
  {
   "cell_type": "code",
   "execution_count": 152,
   "id": "64c890ee-c50a-4ffc-bd9b-28b17ea421d9",
   "metadata": {},
   "outputs": [
    {
     "data": {
      "image/png": "[encoded data removed]",
      "text/plain": [
       "<Figure size 2160x720 with 6 Axes>"
      ]
     },
     "metadata": {
      "needs_background": "light"
     },
     "output_type": "display_data"
    }
   ],
   "source": [
    "fig, axs = plt.subplots(2,3, figsize=(30,10))\n",
    "columns = ['Age', 'Education', 'Usage','Fitness', 'Income', 'Miles']\n",
    "\n",
    "for col, i in zip(columns, axs.flatten()):\n",
    "    sns.boxplot(x = 'Product', y = col, hue = 'Product', data = df, ax=i)\n",
    "    "
   ]
  },
  {
   "cell_type": "markdown",
   "id": "4c115dc3-24b4-408c-b35a-0829714fca34",
   "metadata": {},
   "source": [
    "# Observations\n",
    "\n",
    "The profiles of customers that buy KP281 and KP481 are similar.\n",
    "- 14 to 16 years of education\n",
    "- moderate user 3 to 4 times a week\n",
    "- moderate fitness level of 3 \n",
    "- age group 24 to 34\n",
    "- 75% of the customers that buy KP281 have salary > 40K and KP481 buyers have salary > 45K.\n",
    "- equal interest from both males and females\n",
    "\n",
    "The profiles of customers that buy the most expensive version of the product are power users\n",
    "- they are much younger 25 - 30\n",
    "- more educated 16 to 18 years\n",
    "- power users 4 to 5 times a week and median 166 per week (double that of cheaper product)\n",
    "- their fitness level is high 4 to 5\n",
    "- their median income is also much higher 75K (vs. 47K for cheaper product)\n",
    "- mostly male buyers (82%)"
   ]
  },
  {
   "cell_type": "markdown",
   "id": "cf00f495-5439-4ab8-be87-0069eb7fd2ba",
   "metadata": {},
   "source": [
    "# Resources\n",
    "\n",
    "Stacked bar chart: https://towardsdatascience.com/100-stacked-charts-in-python-6ca3e1962d2b#:~:text=100%25%20stacked%20bar%20chart&text=We%20must%20change%20the%20kind,Everything%20else%20stays%20the%20same.\n",
    "\n",
    "Subplots: https://towardsdatascience.com/clearing-the-confusion-once-and-for-all-fig-ax-plt-subplots-b122bb7783ca\n"
   ]
  }
 ],
 "metadata": {
  "kernelspec": {
   "display_name": "Python 3 (ipykernel)",
   "language": "python",
   "name": "python3"
  },
  "language_info": {
   "codemirror_mode": {
    "name": "ipython",
    "version": 3
   },
   "file_extension": ".py",
   "mimetype": "text/x-python",
   "name": "python",
   "nbconvert_exporter": "python",
   "pygments_lexer": "ipython3",
   "version": "3.9.7"
  }
 },
 "nbformat": 4,
 "nbformat_minor": 5
}
